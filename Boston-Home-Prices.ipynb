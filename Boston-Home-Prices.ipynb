{
 "cells": [
  {
   "cell_type": "markdown",
   "metadata": {},
   "source": [
    "# Predicting Boston Home Prices and the effectiveness of the Learning Rate\n",
    "\n",
    "Using the Boston Home Prices dataset from Sci-kit learn, we will use three different models to predict home prices and compare their accuracy. We will demonstrate the effect that Learning Rate has on Boosting Algorithms specifically. "
   ]
  },
  {
   "cell_type": "code",
   "execution_count": 4,
   "metadata": {},
   "outputs": [],
   "source": [
    "from sklearn.tree import DecisionTreeRegressor\n",
    "from sklearn.ensemble import RandomForestRegressor\n",
    "from sklearn.ensemble import GradientBoostingRegressor\n",
    "from sklearn.ensemble import AdaBoostRegressor\n",
    "from sklearn.datasets import load_boston\n",
    "from sklearn.model_selection import train_test_split, cross_val_score\n",
    "from sklearn.model_selection import GridSearchCV\n",
    "from sklearn.metrics import mean_squared_error, r2_score\n",
    "import matplotlib.pyplot as plt\n",
    "import numpy as np\n",
    "\n",
    "plt.style.use('ggplot')\n",
    "%matplotlib inline"
   ]
  },
  {
   "cell_type": "markdown",
   "metadata": {},
   "source": [
    "#### Load Data from Sci-kit Learn:"
   ]
  },
  {
   "cell_type": "code",
   "execution_count": 5,
   "metadata": {},
   "outputs": [],
   "source": [
    "boston = load_boston()"
   ]
  },
  {
   "cell_type": "code",
   "execution_count": 6,
   "metadata": {},
   "outputs": [],
   "source": [
    "# House Prices:\n",
    "y = boston.target\n",
    "\n",
    "# The other 13 features:\n",
    "x = boston.data"
   ]
  },
  {
   "cell_type": "markdown",
   "metadata": {},
   "source": [
    "#### Explore the dataset:"
   ]
  },
  {
   "cell_type": "code",
   "execution_count": 8,
   "metadata": {},
   "outputs": [
    {
     "name": "stdout",
     "output_type": "stream",
     "text": [
      ".. _boston_dataset:\n",
      "\n",
      "Boston house prices dataset\n",
      "---------------------------\n",
      "\n",
      "**Data Set Characteristics:**  \n",
      "\n",
      "    :Number of Instances: 506 \n",
      "\n",
      "    :Number of Attributes: 13 numeric/categorical predictive. Median Value (attribute 14) is usually the target.\n",
      "\n",
      "    :Attribute Information (in order):\n",
      "        - CRIM     per capita crime rate by town\n",
      "        - ZN       proportion of residential land zoned for lots over 25,000 sq.ft.\n",
      "        - INDUS    proportion of non-retail business acres per town\n",
      "        - CHAS     Charles River dummy variable (= 1 if tract bounds river; 0 otherwise)\n",
      "        - NOX      nitric oxides concentration (parts per 10 million)\n",
      "        - RM       average number of rooms per dwelling\n",
      "        - AGE      proportion of owner-occupied units built prior to 1940\n",
      "        - DIS      weighted distances to five Boston employment centres\n",
      "        - RAD      index of accessibility to radial highways\n",
      "        - TAX      full-value property-tax rate per $10,000\n",
      "        - PTRATIO  pupil-teacher ratio by town\n",
      "        - B        1000(Bk - 0.63)^2 where Bk is the proportion of blacks by town\n",
      "        - LSTAT    % lower status of the population\n",
      "        - MEDV     Median value of owner-occupied homes in $1000's\n",
      "\n",
      "    :Missing Attribute Values: None\n",
      "\n",
      "    :Creator: Harrison, D. and Rubinfeld, D.L.\n",
      "\n",
      "This is a copy of UCI ML housing dataset.\n",
      "https://archive.ics.uci.edu/ml/machine-learning-databases/housing/\n",
      "\n",
      "\n",
      "This dataset was taken from the StatLib library which is maintained at Carnegie Mellon University.\n",
      "\n",
      "The Boston house-price data of Harrison, D. and Rubinfeld, D.L. 'Hedonic\n",
      "prices and the demand for clean air', J. Environ. Economics & Management,\n",
      "vol.5, 81-102, 1978.   Used in Belsley, Kuh & Welsch, 'Regression diagnostics\n",
      "...', Wiley, 1980.   N.B. Various transformations are used in the table on\n",
      "pages 244-261 of the latter.\n",
      "\n",
      "The Boston house-price data has been used in many machine learning papers that address regression\n",
      "problems.   \n",
      "     \n",
      ".. topic:: References\n",
      "\n",
      "   - Belsley, Kuh & Welsch, 'Regression diagnostics: Identifying Influential Data and Sources of Collinearity', Wiley, 1980. 244-261.\n",
      "   - Quinlan,R. (1993). Combining Instance-Based and Model-Based Learning. In Proceedings on the Tenth International Conference of Machine Learning, 236-243, University of Massachusetts, Amherst. Morgan Kaufmann.\n",
      "\n"
     ]
    }
   ],
   "source": [
    "print(boston.DESCR)"
   ]
  },
  {
   "cell_type": "markdown",
   "metadata": {},
   "source": [
    "#### Create a Training and Test set for our predictive models: "
   ]
  },
  {
   "cell_type": "code",
   "execution_count": 9,
   "metadata": {},
   "outputs": [],
   "source": [
    "X_train, X_test, y_train, y_test = train_test_split(x, y,\n",
    "                                                    test_size=0.2,\n",
    "                                                    random_state=1)"
   ]
  },
  {
   "cell_type": "markdown",
   "metadata": {},
   "source": [
    "#### Create 3 Models:\n",
    " * Random Forrest Ensemble with 100 estimators\n",
    " * Gradient Boosting Regressor (will dial-in the learning rate later), least-squares loss function, 100 estimators)\n",
    " * Adaptive Boost Regressor with a decision tree regressor as your base estimator"
   ]
  },
  {
   "cell_type": "code",
   "execution_count": 12,
   "metadata": {},
   "outputs": [],
   "source": [
    "rf = RandomForestRegressor(n_estimators=100,\n",
    "                            n_jobs=-1,\n",
    "                            random_state=1)\n",
    "\n",
    "gdbr = GradientBoostingRegressor(learning_rate=0.1,\n",
    "                                  loss='ls',\n",
    "                                  n_estimators=100,\n",
    "                                  random_state=1)\n",
    "\n",
    "abr = AdaBoostRegressor(DecisionTreeRegressor(),\n",
    "                         learning_rate=0.1,\n",
    "                         loss='linear',\n",
    "                         n_estimators=100,\n",
    "                         random_state=1)"
   ]
  },
  {
   "cell_type": "markdown",
   "metadata": {},
   "source": [
    "#### Create a cross validation score function for each model:"
   ]
  },
  {
   "cell_type": "code",
   "execution_count": 10,
   "metadata": {},
   "outputs": [],
   "source": [
    "def cvs(model,x_data,y_data):\n",
    "    '''\n",
    "    Returns Mean MSE and R-squared value for a 5-split cross-validation\n",
    "    '''\n",
    "    mse = np.mean(-1*cross_val_score(model,x_data,y_data,cv=5,scoring='neg_mean_squared_error'))\n",
    "    r2 = np.mean(cross_val_score(model,x_data,y_data,cv=5,scoring='r2'))\n",
    "    return mse, r2"
   ]
  },
  {
   "cell_type": "code",
   "execution_count": 13,
   "metadata": {},
   "outputs": [],
   "source": [
    "rf_mse, rf_r2 = cvs(rf, X_train, y_train)\n",
    "gdbr_mse, gdbr_r2 = cvs(gdbr, X_train,y_train)\n",
    "abr_mse, abr_r2 = cvs(abr, X_train,y_train)"
   ]
  },
  {
   "cell_type": "markdown",
   "metadata": {},
   "source": [
    "#### Compare the MSE and R2 for each model:"
   ]
  },
  {
   "cell_type": "code",
   "execution_count": 15,
   "metadata": {},
   "outputs": [
    {
     "name": "stdout",
     "output_type": "stream",
     "text": [
      "RandomForestRegressor      TRAIN CV | MSE: 9.803 | R2: 0.874\n",
      "GradientBoostingRegressor  TRAIN CV | MSE: 10.864 | R2: 0.864\n",
      "AdaBoostRegressor          TRAIN CV | MSE: 9.540 | R2: 0.876\n"
     ]
    }
   ],
   "source": [
    "print(\"{:26s} {} | MSE: {:2.3f} | R2: {:2.3f}\".format('RandomForestRegressor','TRAIN CV',rf_mse, rf_r2))\n",
    "print(\"{:26s} {} | MSE: {:2.3f} | R2: {:2.3f}\".format('GradientBoostingRegressor','TRAIN CV',gdbr_mse, gdbr_r2))\n",
    "print(\"{:26s} {} | MSE: {:2.3f} | R2: {:2.3f}\".format('AdaBoostRegressor','TRAIN CV',abr_mse, abr_r2))"
   ]
  },
  {
   "cell_type": "markdown",
   "metadata": {},
   "source": [
    "#### Make a Gradient Boosting model with a learning rate of 1 and compare the result to the previous gdbr:"
   ]
  },
  {
   "cell_type": "code",
   "execution_count": 16,
   "metadata": {},
   "outputs": [],
   "source": [
    "gdbr_1 = GradientBoostingRegressor(learning_rate=1,\n",
    "                                  loss='ls',\n",
    "                                  n_estimators=100,\n",
    "                                  random_state=1)"
   ]
  },
  {
   "cell_type": "code",
   "execution_count": 17,
   "metadata": {},
   "outputs": [],
   "source": [
    "gdbr_1_mse, gdbr_1_r2 = cvs(gdbr_1, X_train,y_train)"
   ]
  },
  {
   "cell_type": "code",
   "execution_count": 20,
   "metadata": {},
   "outputs": [
    {
     "name": "stdout",
     "output_type": "stream",
     "text": [
      "GradientBoostingRegressor_1  TRAIN CV | MSE: 18.702 | R2: 0.762\n"
     ]
    }
   ],
   "source": [
    "print(\"{:28s} {} | MSE: {:2.3f} | R2: {:2.3f}\".format('GradientBoostingRegressor_1','TRAIN CV',gdbr_1_mse, gdbr_1_r2))"
   ]
  },
  {
   "cell_type": "markdown",
   "metadata": {},
   "source": [
    "#### Make function that plots the predictions and at each stage of the boosting algorithm.\n",
    "Plot both of the MSE for the predictions on the training data as well as the test data:"
   ]
  },
  {
   "cell_type": "code",
   "execution_count": 22,
   "metadata": {},
   "outputs": [],
   "source": [
    "def stage_score_plot(estimator, ax, X_train, y_train, X_test, y_test):\n",
    "    '''\n",
    "    Parameters: estimator: GradientBoostingRegressor or AdaBoostRegressor\n",
    "                X_train: 2d numpy array\n",
    "                y_train: 1d numpy array\n",
    "                X_test: 2d numpy array\n",
    "                y_test: 1d numpy array\n",
    "\n",
    "    Returns: A plot of the number of iterations vs the MSE for the model for\n",
    "    both the training set and test set.\n",
    "    '''\n",
    "    estimator.fit(X_train,y_train)\n",
    "    y_staged_predict_train = estimator.staged_predict(X_train)\n",
    "    y_staged_predict_test = estimator.staged_predict(X_test)\n",
    "    mse_train=[]\n",
    "    mse_test=[]\n",
    "    for y_pred in y_staged_predict_train:\n",
    "        mse_train.append(mean_squared_error(y_train, y_pred))\n",
    "\n",
    "    for y_pred in y_staged_predict_test:\n",
    "        mse_test.append(mean_squared_error(y_test, y_pred))\n",
    "\n",
    "    x = np.arange(0,100,1)\n",
    "    ax.plot(x,mse_train,label=\"{} Training Data, learning rate: {}\".format(estimator.__class__.__name__,estimator.learning_rate))\n",
    "    ax.plot(x,mse_test,label=\"{} Testing Data, learning rate: {}\".format(estimator.__class__.__name__,estimator.learning_rate))"
   ]
  },
  {
   "cell_type": "markdown",
   "metadata": {},
   "source": [
    "#### Plot the random forest evaluation as well (horizontal line):"
   ]
  },
  {
   "cell_type": "code",
   "execution_count": 27,
   "metadata": {},
   "outputs": [],
   "source": [
    "def rf_score_plot(randforest, ax, X_train, y_train, X_test, y_test):\n",
    "    '''\n",
    "        Parameters: randforest: RandomForestRegressor\n",
    "                    X_train: 2d numpy array\n",
    "                    y_train: 1d numpy array\n",
    "                    X_test: 2d numpy array\n",
    "                    y_test: 1d numpy array\n",
    "        Returns: The prediction of a random forest regressor on the test set\n",
    "    '''\n",
    "    randforest.fit(X_train, y_train)\n",
    "    y_test_pred = randforest.predict(X_test)\n",
    "    test_score = mean_squared_error(y_test, y_test_pred)\n",
    "    ax.axhline(test_score, alpha = 0.7, c = 'y', lw=3, ls='-.', label = \n",
    "                                                        'Random Forest Test')"
   ]
  },
  {
   "cell_type": "markdown",
   "metadata": {},
   "source": [
    "#### Plot the Boosting Regressor (both test and training data) that has a learning rate of 1, along-side the Boosting Regressor that has a rate of 0.1 and the Random Forrest"
   ]
  },
  {
   "cell_type": "code",
   "execution_count": 42,
   "metadata": {},
   "outputs": [
    {
     "data": {
      "image/png": "[encoded data removed]",
      "text/plain": [
       "<Figure size 576x576 with 1 Axes>"
      ]
     },
     "metadata": {
      "needs_background": "light"
     },
     "output_type": "display_data"
    }
   ],
   "source": [
    "fig, ax = plt.subplots(1, figsize=(8,8))\n",
    "\n",
    "#Feed the function the boosting algo that has learning_rate = 1:\n",
    "stage_score_plot(gdbr, ax, X_train, y_train, X_test, y_test)\n",
    "\n",
    "#Feed the function the boosting algo that has learning_rate = 0.1:\n",
    "stage_score_plot(gdbr_1, ax, X_train, y_train, X_test, y_test)\n",
    "\n",
    "#Add a horizontal line for our Random Forrest model on the test data:\n",
    "rf_score_plot(rf, ax, X_train, y_train, X_test, y_test)\n",
    "\n",
    "ax.set_title('Gradient Boosting Evaluation at stages, with Random Forrest Test')\n",
    "ax.set_ylabel('Mean Squared Error')\n",
    "ax.set_xlabel('n_iterations (boosting stages)')\n",
    "plt.legend()\n",
    "plt.show()"
   ]
  },
  {
   "cell_type": "markdown",
   "metadata": {},
   "source": [
    "#### As you can see, the a slower learning rate will (as the name suggests, slow the learning of our model) and require us to use more iterations. A faster learning rate appears to over-fit the data"
   ]
  },
  {
   "cell_type": "code",
   "execution_count": null,
   "metadata": {},
   "outputs": [],
   "source": []
  }
 ],
 "metadata": {
  "kernelspec": {
   "display_name": "Python 3",
   "language": "python",
   "name": "python3"
  },
  "language_info": {
   "codemirror_mode": {
    "name": "ipython",
    "version": 3
   },
   "file_extension": ".py",
   "mimetype": "text/x-python",
   "name": "python",
   "nbconvert_exporter": "python",
   "pygments_lexer": "ipython3",
   "version": "3.7.1"
  }
 },
 "nbformat": 4,
 "nbformat_minor": 2
}
