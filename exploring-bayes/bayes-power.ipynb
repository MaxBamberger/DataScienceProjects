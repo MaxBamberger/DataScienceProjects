{
 "cells": [
  {
   "cell_type": "markdown",
   "metadata": {},
   "source": [
    "## Part 0: Introduction to Bayesian Analysis\n",
    "\n",
    "This following formula is the underpinning of all Bayesian Analysis.\n",
    "It is **very important** to understand what each of the terms are. Do not\n",
    "move on until you have read and understood this section.\n",
    "\n",
    "![bayes formula](images/bayes_formula.png)\n",
    "\n",
    "**Prior Probability**:\n",
    "- A PMF / PDF representing your initial beliefs about the parameter(s).  \n",
    "- The initial belief is less represented in the posterior as more data is incorporated\n",
    "\n",
    "**Likelihood**:\n",
    "- The probability of observing the data given the parameter(s)\n",
    "- i.e. What is the likelihood of 3 Heads in a row given the probability of heads is 0.7?\n",
    "\n",
    "**Posterior Probability**:\n",
    "- The product of prior and likelihood (Bayesian-update)\n",
    "- The posterior probability becomes the prior of the next Bayesian-update\n",
    "\n",
    "**Normalizing Constant**:\n",
    "- The probability of observing the data. \n",
    "- In Bayesian analysis, this term ensures the sum of all probabilities is 1"
   ]
  },
  {
   "cell_type": "markdown",
   "metadata": {},
   "source": [
    "## Part 1: Bayesian Analysis (Discrete example)\n",
    "\n",
    "Include your answers in `pair_answers.md`\n",
    "\n",
    "We're going to start with a discrete example.\n",
    "\n",
    "A box contains a 4-sided die, a 6-sided die, an 8-sided die,\n",
    "a 12-sided die, and a 20-sided die. A die is selected at random, and the\n",
    "rest are destroyed.\n",
    "\n",
    "We would like to determine which die I have selected, given only information of what I roll.\n",
    "\n",
    "You should write the solutions to these in a text or markdown file."
   ]
  },
  {
   "cell_type": "markdown",
   "metadata": {},
   "source": [
    "1. What is the prior associated with choosing any one die?"
   ]
  },
  {
   "cell_type": "markdown",
   "metadata": {},
   "source": [
    ">P(die(ANY)) = 0.20"
   ]
  },
  {
   "cell_type": "markdown",
   "metadata": {},
   "source": [
    "2. What is the likelihood function? You should assume that the die are all fair."
   ]
  },
  {
   "cell_type": "markdown",
   "metadata": {},
   "source": [
    ">P( roll | die) "
   ]
  },
  {
   "cell_type": "markdown",
   "metadata": {},
   "source": [
    "3. Say I roll an 8. After one bayesian update, what is the probability that I chose each of the dice?"
   ]
  },
  {
   "cell_type": "markdown",
   "metadata": {},
   "source": [
    " * P( die 4 | roll 8) = 0 <br>\n",
    " * P( die 6 | roll 8) = 0 <br>\n",
    " * P( die 8 | roll 8) = $\\frac{(0.125)*(0.20)}{(0 + 0 + 0.125(0.20) + 0.083(0.20) + 0.05(0.20))}$ =  $\\frac{0.025}{0.0516}$ = 0.4845    \n",
    " * P( die 12 | roll 8) = $\\frac{(0.083)*(0.20)}{(0 + 0 + 0.125*(0.20) + 0.083*(0.20) + 0.05*(0.20))}$ = $\\frac{0.01666}{0.0516}$ = 0.3217    \n",
    " * P( die 20 | roll 8) = $\\frac{(0.05)*(0.20)}{(0 + 0 + 0.125*(0.20) + 0.083*(0.20) + 0.05*(0.20))}$ =  $\\frac{0.025}{0.0516}$ = 0.194\n"
   ]
  },
  {
   "cell_type": "markdown",
   "metadata": {},
   "source": [
    "4. Comment on the difference in the posteriors if I had rolled the die 50 times instead of 1."
   ]
  },
  {
   "cell_type": "markdown",
   "metadata": {},
   "source": [
    ">The posterior is affected by the conditional probability of the joint probability of each of the 50 rolls that happen\n"
   ]
  },
  {
   "cell_type": "markdown",
   "metadata": {},
   "source": [
    "5. Which one of these two sets of data gives you a more certain posterior and why?\n",
    "`[1, 1, 1, 3, 1, 2]` or `[10, 10, 10, 10, 8, 8]`"
   ]
  },
  {
   "cell_type": "markdown",
   "metadata": {},
   "source": [
    ">The second dataset. Only two dice can possibly have sides 10 or greater, whereas each one of the dice has all of the sides in the first dataset.\n"
   ]
  },
  {
   "cell_type": "markdown",
   "metadata": {},
   "source": [
    "6. Say that I modify my prior by my belief that bigger dice are more likely to be drawn from the box. This is my prior distribution:\n",
    "\n",
    "    ```\n",
    "    4-sided die: 8%\n",
    "    6-sided die: 12%\n",
    "    8-sided die: 16%\n",
    "    12-sided die: 24%\n",
    "    20-sided die: 40%\n",
    "    ```\n",
    "\n",
    "    What are my posteriors for each die after rolling the 8?\n",
    "\n",
    "    Which die do we think is most likely? Is this different than what you got with the previous prior?"
   ]
  },
  {
   "cell_type": "markdown",
   "metadata": {},
   "source": [
    " * P( die 4 | roll 8) = 0 <br>\n",
    " * P( die 6 | roll 8) = 0 <br>\n",
    " * P( die 8 | roll 8) = $\\frac{(0.125)*(0.16))}{(0 + 0 + 0.125*(0.16) + 0.083*(0.24) + 0.05*(0.40))}$ =  $\\frac{0.02}{0.05992}$ = 0.33 \n",
    " * P( die 12 | roll 8) = $\\frac{(0.083)*(0.16)}{(0 + 0 + 0.125*(0.16) + 0.083*(0.24) + 0.05*(0.40))}$ = $\\frac{0.02}{0.0516}$ = 0.33    \n",
    " * P( die 20 | roll 8) = $\\frac{(0.05)*(0.40)}{(0 + 0 + 0.125*(0.20) + 0.083*(0.20) + 0.05*(0.20))}$ =  $\\frac{0.02}{0.0516}$ = 0.33\n",
    " \n",
    " >8-sided, 12-sided and 20 sided die are all basicially equally likely now."
   ]
  },
  {
   "cell_type": "markdown",
   "metadata": {},
   "source": [
    "7. Say you keep the same prior and you roll the die 50 times and get values 1-8 every time. What would you expect of the posterior? How different do you think it would be if you'd used the uniform prior?"
   ]
  },
  {
   "cell_type": "markdown",
   "metadata": {},
   "source": [
    "\n",
    ">I would expect the 20, 12 and 8-sided dice to all have similar probaility, with the 20-sided die just marginally more probable. If you used a uniform prior like before then the 8-sided die would be more likely."
   ]
  },
  {
   "cell_type": "markdown",
   "metadata": {},
   "source": [
    "## Part 2: Object Oriented Bayes\n",
    "\n",
    "Let's verify the answers you made in the previous question by writing some code to simulate the situation.\n",
    "\n",
    "We will be implementing a `Bayes` class that is able to handle Bayesian updates in the discrete case.\n",
    "A prior is defined and at each data point, a likelihood is computed and the\n",
    "prior is updated to give the posterior.\n",
    "\n",
    "**The posterior becomes the prior at the next data point.**\n",
    "\n",
    "The starter code is provided for you in `bayes.py`."
   ]
  },
  {
   "cell_type": "markdown",
   "metadata": {},
   "source": [
    "1. Fill in the `normalize` method. It makes the probabilities in `self.prior` sum to 1.\n",
    "\n",
    "   To normalize, you need to sum up all the probabilities and then divide each probability by this value."
   ]
  },
  {
   "cell_type": "markdown",
   "metadata": {},
   "source": [
    "2. Fill in the `update` method. It should take the result of one test, calculate the likelihood and use it to calculate the posterior. The posterior should now be your prior.\n",
    "\n",
    "    The likelihood function should be used like this:\n",
    "\n",
    "    ```python\n",
    "    self.likelihood_func(data, key)\n",
    "    ```\n",
    "\n",
    "    Make sure to call the `normalize` method!"
   ]
  },
  {
   "cell_type": "markdown",
   "metadata": {},
   "source": [
    "3. Fill in the `print_distribution` method in order to print out the current prior.\n",
    "\n",
    "    It will be easier to read if you print the values in sorted order so you'll always see them in a consistent order."
   ]
  },
  {
   "cell_type": "markdown",
   "metadata": {},
   "source": [
    "## Part 3: Verifying via simulation\n",
    "\n",
    "Now we're ready to use our code to verify our intuition about the dice problem. You'll need to run several simulations using your bayes code and verify that it matches what you said in Part 1.\n",
    "\n",
    "We are going to consider both a uniform prior and the unbalanced prior from above:\n",
    "\n",
    "```\n",
    "4-sided die: 8%\n",
    "6-sided die: 12%\n",
    "8-sided die: 16%\n",
    "12-sided die: 24%\n",
    "20-sided die: 40%\n",
    "```\n",
    "\n",
    "Put all the code you use to answer these questions in `dice.py`."
   ]
  },
  {
   "cell_type": "markdown",
   "metadata": {},
   "source": [
    "1. Encode both priors as dictionaries.\n",
    "\n",
    "    ***Note: When you pass these into your bayes function make sure to use `.copy()` or else you will be editing your prior and won't be able to use it in a following problem.***"
   ]
  },
  {
   "cell_type": "markdown",
   "metadata": {},
   "source": [
    "2. Implement the likelihood function. It should take the data (in this case a number 1-20) and the die number (4, 6, 8, 12 or 20)."
   ]
  },
  {
   "cell_type": "markdown",
   "metadata": {},
   "source": [
    "3. First, let's examine the case where we only roll the die once. Say we roll a single 8.\n",
    "\n",
    "    * What are the posteriors if we started with the uniform prior?\n",
    "    \n",
    "    * What are the posteriors if we started with the unbalanced prior?\n",
    "    \n",
    "    * How different were these two posteriors?"
   ]
  },
  {
   "cell_type": "markdown",
   "metadata": {},
   "source": [
    "4. Let's say you get all this data:\n",
    "\n",
    "    ```\n",
    "    [8,2,1,2,5,8,2,4,3,7,6,5,1,6,2,5,8,8,5,3,4,2,4,3,8,\n",
    "     8,7,8,8,8,5,5,1,3,8,7,8,5,2,5,1,4,1,2,1,3,1,3,1,5]\n",
    "    ```\n",
    "\n",
    "    * What are the posteriors if we started with the uniform prior?\n",
    "    \n",
    "    * What are the posteriors if we started with the unbalanced prior?\n",
    "    \n",
    "    * How different are these two posteriors?    "
   ]
  },
  {
   "cell_type": "markdown",
   "metadata": {},
   "source": [
    "5. With the uniform prior, which of these two sets of data leads to a more certain posterior? `[1, 1, 1, 3, 1, 2]` or `[10, 10, 10, 10, 8, 8]`"
   ]
  },
  {
   "cell_type": "markdown",
   "metadata": {},
   "source": [
    "## Part 4: A Biased Coin (a continuous example)\n",
    "\n",
    "We have a coin. We would like to know how biased it is. The bias is a value between 0 and 1 of the probability of flipping heads. Our prior is that all biases are equally likely.\n",
    "\n",
    "Even though this is a continuous example, we are going to simulate it discretely so that we can use the same code from Part 2. We are going to get the values of the pmf for 100 values from 0 to 1 and then look at the graphs.\n",
    "\n",
    "Note that when we plot this graph, the x-axis won't have the correct labels since our bayes code is for the discrete case. However, the shapes will still be correct.\n",
    "\n",
    "Put your code in `biased_coin.py`."
   ]
  },
  {
   "cell_type": "markdown",
   "metadata": {},
   "source": [
    "1. Create the prior dictionary that has all the keys in `0, 0.01, 0.02, ..., 0.99`. The values should all be the same, as an equal probability of each of these keys occurring. Technically, each of these corresponds to a range in the pmf, not a specific value.\n",
    "\n",
    "    You can use `np.linspace` to get the array of all the keys."
   ]
  },
  {
   "cell_type": "markdown",
   "metadata": {},
   "source": [
    "2. The likelihood function is a Bernoulli. Write the `likelihood` function. It should take the data of either `'H'` or `'T'` and the value for `p` and return a value between 0 and 1.\n",
    "\n",
    "    For example, if the data is `H` and the value is 0.3, it should return 0.3.\n",
    "\n",
    "    If the data is `T` and the value is 0.3, it should return 0.7."
   ]
  },
  {
   "cell_type": "markdown",
   "metadata": {},
   "source": [
    "3. Make a graph with 8 subplots that has the posterior for each of the following scenarios. Make sure to give each graph a title!\n",
    "\n",
    "    * You get the data: `H`.\n",
    "\n",
    "    * You get the data: `T`.\n",
    "    \n",
    "    * You get the data: `H, H`.\n",
    "\n",
    "    * You get the data: `T, H`.\n",
    "    \n",
    "    * You get the data: `H, H, H`.\n",
    "\n",
    "    * You get the data: `T, H, T`.\n",
    "    \n",
    "    * You get the data: `H, H, H, H`.\n",
    "\n",
    "    * You get the data: `T, H, T, H`.\n",
    "\n",
    "    You shouldn't need to edit the `plot` method to do this. Just change the subplot by calling `plt.subplot(...)` first to switch which subplot it will draw on.\n",
    "\n",
    "    Use `plt.tight_layout()` to make the spacing of the subplots nicer.\n",
    "    \n",
    "    Note how the graph changes as you get more data. With more data you should become more certain of the value."
   ]
  },
  {
   "cell_type": "markdown",
   "metadata": {},
   "source": [
    "4. There is a biased coin in `coin.pyc`. You can't see the code to see how biased it is. You can use the coin like this:\n",
    "\n",
    "    ```python\n",
    "    from coin import Coin\n",
    "\n",
    "    mycoin = Coin()\n",
    "    print mycoin.flip()\n",
    "    print mycoin.flip()\n",
    "    ```\n",
    "\n",
    "    The `flip` method will return either `H` or `T`\n",
    "\n",
    "    On a single graph, overlay the initial uniform prior with the prior after 1, 2, 10, 50 and 250 flips..\n",
    "\n",
    "    Use the `color` parameter to give a different color to each layer. Use the `label` parameter to label each label.\n",
    "\n",
    "This simulation gives us the [***Beta Distribution***](http://en.wikipedia.org/wiki/Beta_distribution)! The shape parameters (alpha and beta) are `1 + # heads` and `1 + # tails`! We'll get into this more later."
   ]
  },
  {
   "cell_type": "markdown",
   "metadata": {},
   "source": []
  },
  {
   "cell_type": "markdown",
   "metadata": {},
   "source": [
    "3. Say I roll an 8. After one bayesian update, what is the probability that I chose each of the dice?"
   ]
  },
  {
   "cell_type": "markdown",
   "metadata": {},
   "source": [
    "4. Comment on the difference in the posteriors if I had rolled the die 50 times instead of 1.\n",
    "\n",
    "5. Which one of these two sets of data gives you a more certain posterior and why?\n",
    "`[1, 1, 1, 3, 1, 2]` or `[10, 10, 10, 10, 8, 8]`\n",
    "\n",
    "6. Say that I modify my prior by my belief that bigger dice are more likely to be drawn from the box. This is my prior distribution:\n",
    "\n",
    "    ```\n",
    "    4-sided die: 8%\n",
    "    6-sided die: 12%\n",
    "    8-sided die: 16%\n",
    "    12-sided die: 24%\n",
    "    20-sided die: 40%\n",
    "    ```\n",
    "\n",
    "    What are my posteriors for each die after rolling the 8?\n",
    "\n",
    "    Which die do we think is most likely? Is this different than what you got with the previous prior?\n",
    "\n",
    "7. Say you keep the same prior and you roll the die 50 times and get values 1-8 every time. What would you expect of the posterior? How different do you think it would be if you'd used the uniform prior?\n",
    "\n",
    "\n",
    "## Part 2: Object Oriented Bayes\n",
    "\n",
    "Let's verify the answers you made in the previous question by writing some code to simulate the situation.\n",
    "\n",
    "We will be implementing a `Bayes` class that is able to handle Bayesian updates in the discrete case.\n",
    "A prior is defined and at each data point, a likelihood is computed and the\n",
    "prior is updated to give the posterior.\n",
    "\n",
    "**The posterior becomes the prior at the next data point.**\n",
    "\n",
    "The starter code is provided for you in `bayes.py`.\n",
    "\n",
    "1. Fill in the `normalize` method. It makes the probabilities in `self.prior` sum to 1.\n",
    "\n",
    "   To normalize, you need to sum up all the probabilities and then divide each probability by this value.\n",
    "\n",
    "2. Fill in the `update` method. It should take the result of one test, calculate the likelihood and use it to calculate the posterior. The posterior should now be your prior.\n",
    "\n",
    "    The likelihood function should be used like this:\n",
    "\n",
    "    ```python\n",
    "    self.likelihood_func(data, key)\n",
    "    ```\n",
    "\n",
    "    Make sure to call the `normalize` method!\n",
    "\n",
    "3. Fill in the `print_distribution` method in order to print out the current prior.\n",
    "\n",
    "    It will be easier to read if you print the values in sorted order so you'll always see them in a consistent order.\n",
    "\n",
    "## Part 3: Verifying via simulation\n",
    "\n",
    "Now we're ready to use our code to verify our intuition about the dice problem. You'll need to run several simulations using your bayes code and verify that it matches what you said in Part 1.\n",
    "\n",
    "We are going to consider both a uniform prior and the unbalanced prior from above:\n",
    "\n",
    "```\n",
    "4-sided die: 8%\n",
    "6-sided die: 12%\n",
    "8-sided die: 16%\n",
    "12-sided die: 24%\n",
    "20-sided die: 40%\n",
    "```\n",
    "\n",
    "Put all the code you use to answer these questions in `dice.py`.\n",
    "\n",
    "1. Encode both priors as dictionaries.\n",
    "\n",
    "    ***Note: When you pass these into your bayes function make sure to use `.copy()` or else you will be editing your prior and won't be able to use it in a following problem.***\n",
    "\n",
    "2. Implement the likelihood function. It should take the data (in this case a number 1-20) and the die number (4, 6, 8, 12 or 20).\n",
    "\n",
    "3. First, let's examine the case where we only roll the die once. Say we roll a single 8.\n",
    "\n",
    "    * What are the posteriors if we started with the uniform prior?\n",
    "    \n",
    "    * What are the posteriors if we started with the unbalanced prior?\n",
    "    \n",
    "    * How different were these two posteriors?\n",
    "\n",
    "4. Let's say you get all this data:\n",
    "\n",
    "    ```\n",
    "    [8,2,1,2,5,8,2,4,3,7,6,5,1,6,2,5,8,8,5,3,4,2,4,3,8,\n",
    "     8,7,8,8,8,5,5,1,3,8,7,8,5,2,5,1,4,1,2,1,3,1,3,1,5]\n",
    "    ```\n",
    "\n",
    "    * What are the posteriors if we started with the uniform prior?\n",
    "    \n",
    "    * What are the posteriors if we started with the unbalanced prior?\n",
    "    \n",
    "    * How different are these two posteriors?    \n",
    "\n",
    "5. With the uniform prior, which of these two sets of data leads to a more certain posterior? `[1, 1, 1, 3, 1, 2]` or `[10, 10, 10, 10, 8, 8]`\n",
    "\n",
    "\n",
    "## Part 4: A Biased Coin (a continuous example)\n",
    "\n",
    "We have a coin. We would like to know how biased it is. The bias is a value between 0 and 1 of the probability of flipping heads. Our prior is that all biases are equally likely.\n",
    "\n",
    "Even though this is a continuous example, we are going to simulate it discretely so that we can use the same code from Part 2. We are going to get the values of the pmf for 100 values from 0 to 1 and then look at the graphs.\n",
    "\n",
    "Note that when we plot this graph, the x-axis won't have the correct labels since our bayes code is for the discrete case. However, the shapes will still be correct.\n",
    "\n",
    "Put your code in `biased_coin.py`.\n",
    "\n",
    "1. Create the prior dictionary that has all the keys in `0, 0.01, 0.02, ..., 0.99`. The values should all be the same, as an equal probability of each of these keys occurring. Technically, each of these corresponds to a range in the pmf, not a specific value.\n",
    "\n",
    "    You can use `np.linspace` to get the array of all the keys.\n",
    "\n",
    "2. The likelihood function is a Bernoulli. Write the `likelihood` function. It should take the data of either `'H'` or `'T'` and the value for `p` and return a value between 0 and 1.\n",
    "\n",
    "    For example, if the data is `H` and the value is 0.3, it should return 0.3.\n",
    "\n",
    "    If the data is `T` and the value is 0.3, it should return 0.7.\n",
    "\n",
    "3. Make a graph with 8 subplots that has the posterior for each of the following scenarios. Make sure to give each graph a title!\n",
    "\n",
    "    * You get the data: `H`.\n",
    "\n",
    "    * You get the data: `T`.\n",
    "    \n",
    "    * You get the data: `H, H`.\n",
    "\n",
    "    * You get the data: `T, H`.\n",
    "    \n",
    "    * You get the data: `H, H, H`.\n",
    "\n",
    "    * You get the data: `T, H, T`.\n",
    "    \n",
    "    * You get the data: `H, H, H, H`.\n",
    "\n",
    "    * You get the data: `T, H, T, H`.\n",
    "\n",
    "    You shouldn't need to edit the `plot` method to do this. Just change the subplot by calling `plt.subplot(...)` first to switch which subplot it will draw on.\n",
    "\n",
    "    Use `plt.tight_layout()` to make the spacing of the subplots nicer.\n",
    "    \n",
    "    Note how the graph changes as you get more data. With more data you should become more certain of the value.\n",
    "\n",
    "4. There is a biased coin in `coin.pyc`. You can't see the code to see how biased it is. You can use the coin like this:\n",
    "\n",
    "    ```python\n",
    "    from coin import Coin\n",
    "\n",
    "    mycoin = Coin()\n",
    "    print mycoin.flip()\n",
    "    print mycoin.flip()\n",
    "    ```\n",
    "\n",
    "    The `flip` method will return either `H` or `T`\n",
    "\n",
    "    On a single graph, overlay the initial uniform prior with the prior after 1, 2, 10, 50 and 250 flips..\n",
    "\n",
    "    Use the `color` parameter to give a different color to each layer. Use the `label` parameter to label each label.\n",
    "\n",
    "This simulation gives us the [***Beta Distribution***](http://en.wikipedia.org/wiki/Beta_distribution)! The shape parameters (alpha and beta) are `1 + # heads` and `1 + # tails`! We'll get into this more later."
   ]
  },
  {
   "cell_type": "markdown",
   "metadata": {},
   "source": [
    "4. Comment on the difference in the posteriors if I had rolled the die 50 times instead of 1."
   ]
  },
  {
   "cell_type": "markdown",
   "metadata": {},
   "source": [
    "5. Which one of these two sets of data gives you a more certain posterior and why?\n",
    "`[1, 1, 1, 3, 1, 2]` or `[10, 10, 10, 10, 8, 8]`"
   ]
  },
  {
   "cell_type": "markdown",
   "metadata": {},
   "source": [
    "6. Say that I modify my prior by my belief that bigger dice are more likely to be drawn from the box. This is my prior distribution:\n",
    "\n",
    "    ```\n",
    "    4-sided die: 8%\n",
    "    6-sided die: 12%\n",
    "    8-sided die: 16%\n",
    "    12-sided die: 24%\n",
    "    20-sided die: 40%\n",
    "    ```\n",
    "\n",
    "    What are my posteriors for each die after rolling the 8?\n",
    "\n",
    "    Which die do we think is most likely? Is this different than what you got with the previous prior?"
   ]
  },
  {
   "cell_type": "markdown",
   "metadata": {},
   "source": [
    "7. Say you keep the same prior and you roll the die 50 times and get values 1-8 every time. What would you expect of the posterior? How different do you think it would be if you'd used the uniform prior?"
   ]
  },
  {
   "cell_type": "markdown",
   "metadata": {},
   "source": [
    "## Part 2: Object Oriented Bayes\n",
    "\n",
    "Let's verify the answers you made in the previous question by writing some code to simulate the situation.\n",
    "\n",
    "We will be implementing a `Bayes` class that is able to handle Bayesian updates in the discrete case.\n",
    "A prior is defined and at each data point, a likelihood is computed and the\n",
    "prior is updated to give the posterior.\n",
    "\n",
    "**The posterior becomes the prior at the next data point.**\n",
    "\n",
    "The starter code is provided for you in `bayes.py`."
   ]
  },
  {
   "cell_type": "markdown",
   "metadata": {},
   "source": [
    "1. Fill in the `normalize` method. It makes the probabilities in `self.prior` sum to 1.\n",
    "\n",
    "   To normalize, you need to sum up all the probabilities and then divide each probability by this value."
   ]
  },
  {
   "cell_type": "markdown",
   "metadata": {},
   "source": [
    "2. Fill in the `update` method. It should take the result of one test, calculate the likelihood and use it to calculate the posterior. The posterior should now be your prior.\n",
    "\n",
    "    The likelihood function should be used like this:\n",
    "\n",
    "    ```python\n",
    "    self.likelihood_func(data, key)\n",
    "    ```\n",
    "\n",
    "    Make sure to call the `normalize` method!"
   ]
  },
  {
   "cell_type": "markdown",
   "metadata": {},
   "source": [
    "3. Fill in the `print_distribution` method in order to print out the current prior.\n",
    "\n",
    "    It will be easier to read if you print the values in sorted order so you'll always see them in a consistent order."
   ]
  },
  {
   "cell_type": "markdown",
   "metadata": {},
   "source": [
    "## Part 3: Verifying via simulation\n",
    "\n",
    "Now we're ready to use our code to verify our intuition about the dice problem. You'll need to run several simulations using your bayes code and verify that it matches what you said in Part 1.\n",
    "\n",
    "We are going to consider both a uniform prior and the unbalanced prior from above:\n",
    "\n",
    "```\n",
    "4-sided die: 8%\n",
    "6-sided die: 12%\n",
    "8-sided die: 16%\n",
    "12-sided die: 24%\n",
    "20-sided die: 40%\n",
    "```\n",
    "\n",
    "Put all the code you use to answer these questions in `dice.py`."
   ]
  },
  {
   "cell_type": "markdown",
   "metadata": {},
   "source": [
    "1. Encode both priors as dictionaries.\n",
    "\n",
    "    ***Note: When you pass these into your bayes function make sure to use `.copy()` or else you will be editing your prior and won't be able to use it in a following problem.***"
   ]
  },
  {
   "cell_type": "markdown",
   "metadata": {},
   "source": [
    "2. Implement the likelihood function. It should take the data (in this case a number 1-20) and the die number (4, 6, 8, 12 or 20)."
   ]
  },
  {
   "cell_type": "markdown",
   "metadata": {},
   "source": [
    "3. First, let's examine the case where we only roll the die once. Say we roll a single 8.\n",
    "\n",
    "    * What are the posteriors if we started with the uniform prior?\n",
    "    \n",
    "    * What are the posteriors if we started with the unbalanced prior?\n",
    "    \n",
    "    * How different were these two posteriors?"
   ]
  },
  {
   "cell_type": "markdown",
   "metadata": {},
   "source": [
    "4. Let's say you get all this data:\n",
    "\n",
    "    ```\n",
    "    [8,2,1,2,5,8,2,4,3,7,6,5,1,6,2,5,8,8,5,3,4,2,4,3,8,\n",
    "     8,7,8,8,8,5,5,1,3,8,7,8,5,2,5,1,4,1,2,1,3,1,3,1,5]\n",
    "    ```\n",
    "\n",
    "    * What are the posteriors if we started with the uniform prior?\n",
    "    \n",
    "    * What are the posteriors if we started with the unbalanced prior?\n",
    "    \n",
    "    * How different are these two posteriors?    "
   ]
  },
  {
   "cell_type": "markdown",
   "metadata": {},
   "source": [
    "5. With the uniform prior, which of these two sets of data leads to a more certain posterior? `[1, 1, 1, 3, 1, 2]` or `[10, 10, 10, 10, 8, 8]`"
   ]
  },
  {
   "cell_type": "markdown",
   "metadata": {},
   "source": [
    "## Part 4: A Biased Coin (a continuous example)\n",
    "\n",
    "We have a coin. We would like to know how biased it is. The bias is a value between 0 and 1 of the probability of flipping heads. Our prior is that all biases are equally likely.\n",
    "\n",
    "Even though this is a continuous example, we are going to simulate it discretely so that we can use the same code from Part 2. We are going to get the values of the pmf for 100 values from 0 to 1 and then look at the graphs.\n",
    "\n",
    "Note that when we plot this graph, the x-axis won't have the correct labels since our bayes code is for the discrete case. However, the shapes will still be correct.\n",
    "\n",
    "Put your code in `biased_coin.py`."
   ]
  },
  {
   "cell_type": "markdown",
   "metadata": {},
   "source": [
    "1. Create the prior dictionary that has all the keys in `0, 0.01, 0.02, ..., 0.99`. The values should all be the same, as an equal probability of each of these keys occurring. Technically, each of these corresponds to a range in the pmf, not a specific value.\n",
    "\n",
    "    You can use `np.linspace` to get the array of all the keys."
   ]
  },
  {
   "cell_type": "markdown",
   "metadata": {},
   "source": [
    "2. The likelihood function is a Bernoulli. Write the `likelihood` function. It should take the data of either `'H'` or `'T'` and the value for `p` and return a value between 0 and 1.\n",
    "\n",
    "    For example, if the data is `H` and the value is 0.3, it should return 0.3.\n",
    "\n",
    "    If the data is `T` and the value is 0.3, it should return 0.7."
   ]
  },
  {
   "cell_type": "markdown",
   "metadata": {},
   "source": [
    "3. Make a graph with 8 subplots that has the posterior for each of the following scenarios. Make sure to give each graph a title!\n",
    "\n",
    "    * You get the data: `H`.\n",
    "\n",
    "    * You get the data: `T`.\n",
    "    \n",
    "    * You get the data: `H, H`.\n",
    "\n",
    "    * You get the data: `T, H`.\n",
    "    \n",
    "    * You get the data: `H, H, H`.\n",
    "\n",
    "    * You get the data: `T, H, T`.\n",
    "    \n",
    "    * You get the data: `H, H, H, H`.\n",
    "\n",
    "    * You get the data: `T, H, T, H`.\n",
    "\n",
    "    You shouldn't need to edit the `plot` method to do this. Just change the subplot by calling `plt.subplot(...)` first to switch which subplot it will draw on.\n",
    "\n",
    "    Use `plt.tight_layout()` to make the spacing of the subplots nicer.\n",
    "    \n",
    "    Note how the graph changes as you get more data. With more data you should become more certain of the value."
   ]
  },
  {
   "cell_type": "markdown",
   "metadata": {},
   "source": [
    "4. There is a biased coin in `coin.pyc`. You can't see the code to see how biased it is. You can use the coin like this:\n",
    "\n",
    "    ```python\n",
    "    from coin import Coin\n",
    "\n",
    "    mycoin = Coin()\n",
    "    print mycoin.flip()\n",
    "    print mycoin.flip()\n",
    "    ```\n",
    "\n",
    "    The `flip` method will return either `H` or `T`\n",
    "\n",
    "    On a single graph, overlay the initial uniform prior with the prior after 1, 2, 10, 50 and 250 flips..\n",
    "\n",
    "    Use the `color` parameter to give a different color to each layer. Use the `label` parameter to label each label.\n",
    "\n",
    "This simulation gives us the [***Beta Distribution***](http://en.wikipedia.org/wiki/Beta_distribution)! The shape parameters (alpha and beta) are `1 + # heads` and `1 + # tails`! We'll get into this more later."
   ]
  }
 ],
 "metadata": {
  "kernelspec": {
   "display_name": "Python 3",
   "language": "python",
   "name": "python3"
  },
  "language_info": {
   "codemirror_mode": {
    "name": "ipython",
    "version": 3
   },
   "file_extension": ".py",
   "mimetype": "text/x-python",
   "name": "python",
   "nbconvert_exporter": "python",
   "pygments_lexer": "ipython3",
   "version": "3.7.1"
  }
 },
 "nbformat": 4,
 "nbformat_minor": 2
}
