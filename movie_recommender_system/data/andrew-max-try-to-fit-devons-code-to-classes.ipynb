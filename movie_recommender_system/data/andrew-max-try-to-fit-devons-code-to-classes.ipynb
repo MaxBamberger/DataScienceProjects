{
 "cells": [
  {
   "cell_type": "code",
   "execution_count": 1,
   "metadata": {},
   "outputs": [],
   "source": [
    "import logging\n",
    "import numpy as np\n",
    "import pandas as pd\n",
    "import matplotlib.pyplot as plt\n",
    "from scipy import stats\n",
    "from time import time\n",
    "\n",
    "import pyspark as ps\n",
    "from pyspark.sql.types import *\n",
    "from pyspark.ml.tuning import TrainValidationSplit, ParamGridBuilder\n",
    "from pyspark.ml.recommendation import ALS\n",
    "from pyspark.ml.evaluation import RegressionEvaluator\n",
    "from pyspark.sql import functions as F"
   ]
  },
  {
   "cell_type": "code",
   "execution_count": 16,
   "metadata": {},
   "outputs": [],
   "source": [
    "\n",
    "class MovieRecommender():\n",
    "    \"\"\"Template class for a Movie Recommender system.\"\"\"\n",
    "\n",
    "    def __init__(self, local=False):\n",
    "        \"\"\"Constructs a MovieRecommender\"\"\"\n",
    "        self.spark = ps.sql.SparkSession.builder \\\n",
    "              .master(\"local[4]\") \\\n",
    "              .appName(\"Movie Reccomender\") \\\n",
    "              .getOrCreate()\n",
    "        self.sc = self.spark.sparkContext\n",
    "        self.logger = logging.getLogger('reco-cs')\n",
    "        self.users = self.sc.textFile('data/users.dat').map(lambda x: (int(x.split('::')[0]), x))\n",
    "        self.movies = self.sc.textFile('data/movies.dat').map(lambda x: (int(x.split('::')[0]), x))\n",
    "        self.local = local\n",
    "\n",
    "\n",
    "\n",
    "    def fit(self, ratings):\n",
    "        \"\"\"\n",
    "        Trains the recommender on a given set of ratings.\n",
    "\n",
    "        Parameters\n",
    "        ----------\n",
    "        ratings : pandas dataframe, shape = (n_ratings, 4)\n",
    "                  with columns 'user', 'movie', 'rating', 'timestamp'\n",
    "\n",
    "        Returns\n",
    "        -------\n",
    "        self : object\n",
    "            Returns self.\n",
    "        \"\"\"\n",
    "        self.logger.debug(\"starting fit\")\n",
    "        \n",
    "        #Save the training data for later use:\n",
    "        \n",
    "        self.training_data = ratings.toPandas()\n",
    "        self.users_train_unique = self.training_data.user.unique()\n",
    "        self.movies_train_unique = self.training_data.movie.unique()\n",
    "        \n",
    "        #Begin Transforming the data for fitting\n",
    "        t0 = time()\n",
    "        users = self.users\n",
    "        movies = self.movies\n",
    "        \n",
    "        # Maps the ratings df structure to that of the test data'a\n",
    "        ratings = ratings.rdd.map(tuple)\n",
    "        ratings = ratings.map(lambda x: '::'.join(x))\n",
    "        ratings = ratings.map(lambda x: (int(x.split('::')[0]), x))\n",
    "        self.ratings = ratings\n",
    "        \n",
    "        # Joins all the tables together for training\n",
    "        joined = ratings.join(users)\n",
    "        temp = joined.map(lambda x: '::'.join(x[1])).map(lambda x: (int(x.split('::')[1]), x))\n",
    "        joined_full = temp.join(movies).map(lambda x: '::'.join(x[1]))\n",
    "\n",
    "        # Removes the :: seperator from the RDD\n",
    "        def split_to_cols(x):\n",
    "            values = x.split('::')\n",
    "            return (int(values[0]), int(values[1]), int(values[2]))\n",
    "\n",
    "        # Not used but kept around because it could be \n",
    "        def get_ratings(x):\n",
    "            values = x.split('::')\n",
    "            return (int(values[2]))\n",
    "\n",
    "        # Turns the RDD into a DataFrame\n",
    "        spark_df = joined_full.map(split_to_cols)\n",
    "\n",
    "        schema = StructType([\n",
    "            StructField(\"userID\", IntegerType(), True),\n",
    "            StructField(\"movieID\", IntegerType(), True),\n",
    "            StructField(\"rating\", IntegerType(), True)])\n",
    "        \n",
    "        # Creates the proper train DataFrame for fitting\n",
    "        train = self.spark.createDataFrame(spark_df, schema)\n",
    "\n",
    "        # Instantiate the model (Alternating Least Squares)\n",
    "        als = ALS(\n",
    "                itemCol='movieID',\n",
    "                userCol='userID',\n",
    "                ratingCol='rating',\n",
    "                nonnegative=True,    \n",
    "                regParam=0.4,\n",
    "                maxIter=10,\n",
    "                rank=14)\n",
    "        \n",
    "        # Creates the reccomender by fitting the training data\n",
    "        self.recommender = als.fit(train)\n",
    "        \n",
    "        # Fit the model\n",
    "        print('Model Created. Trainging....')\n",
    "        self.recommender = als.fit(train)\n",
    "        self.fitted = True\n",
    "        \n",
    "        self.logger.debug(\"finishing fit\")\n",
    "        print('DONE! ', time()-t0, ' seconds.')\n",
    "        return(self)\n",
    "\n",
    "\n",
    "    def transform(self, requests):\n",
    "        \"\"\"\n",
    "        Predicts the ratings for a given set of requests.\n",
    "\n",
    "        Parameters\n",
    "        ----------\n",
    "        requests : pandas dataframe, shape = (n_ratings, 2)\n",
    "                  with columns 'user', 'movie'\n",
    "\n",
    "        Returns\n",
    "        -------\n",
    "        dataframe : a pandas dataframe with columns 'user', 'movie', 'rating'\n",
    "                    column 'rating' containing the predicted rating\n",
    "        \"\"\"\n",
    "\n",
    "        test_df = requests.toPandas()\n",
    "        self.test_df = test_df\n",
    "        \n",
    "        #Filter down the request data\n",
    "        self.old_old = test_df[(test_df.user.isin(self.users_train_unique))\n",
    "                          & (test_df.movie.isin(self.movies_train_unique))]\n",
    "        newish = test_df[~((test_df.user.isin(self.users_train_unique))\n",
    "                         & (test_df.movie.isin(self.movies_train_unique)))]\n",
    "        self.newish = newish\n",
    "        \n",
    "        #Split off the new users/movies:\n",
    "        self.requests_new_movies = newish[(newish.user.isin(self.users_train_unique))\n",
    "                                    & ~(newish.movie.isin(self.movies_train_unique))]\n",
    "        \n",
    "        self.requests_new_users = newish[~((newish.user.isin(self.users_train_unique))\n",
    "                                    & ~(newish.movie.isin(self.movies_train_unique)))]\n",
    "        \n",
    "        requests = self.spark.createDataFrame(self.old_old)\n",
    "        \n",
    "        self.logger.debug(\"starting predict\")\n",
    "        self.logger.debug(\"request count: {}\".format(requests.count()))\n",
    "        t0 = time()\n",
    "        users = self.users\n",
    "        movies = self.movies\n",
    "        \n",
    "        # Gets the requests in the right shape\n",
    "        requests = requests.rdd.map(tuple)\n",
    "        requests = requests.map(lambda x: '::'.join(x))\n",
    "        requests = requests.map(lambda x: (int(x.split('::')[0]), x))\n",
    "        \n",
    "        joined = requests.join(users)\n",
    "        temp = joined.map(lambda x: '::'.join(x[1])).map(lambda x: (int(x.split('::')[1]), x))\n",
    "\n",
    "        joined_full = temp.join(movies).map(lambda x: '::'.join(x[1]))\n",
    "\n",
    "        def split_to_cols(x):\n",
    "            values = x.split('::')\n",
    "            return (int(values[0]), int(values[1]), int(values[2]))\n",
    "\n",
    "        def get_ratings(x):\n",
    "            values = x.split('::')\n",
    "            return (int(values[2]))\n",
    "\n",
    "        data_rdd = joined_full.map(split_to_cols)\n",
    "        j_ratings = joined_full.map(get_ratings)\n",
    "\n",
    "        schema = StructType([\n",
    "            StructField(\"userID\", IntegerType(), True),\n",
    "            StructField(\"movieID\", IntegerType(), True),\n",
    "            StructField(\"rating\", IntegerType(), True)])\n",
    "        \n",
    "        test = self.spark.createDataFrame(data_rdd, schema)\n",
    "        \n",
    "        self.logger.debug(\"finishing predict for recognized users and movies\")\n",
    "        \n",
    "        print('Transforming...')\n",
    "        output = self.recommender.transform(test)\n",
    "        \n",
    "        output = output.toPandas()\n",
    "        output.drop('rating',axis=1,inplace=True)\n",
    "        output.rename(columns={'userID':'user', 'movieID':'movie'}, inplace = True)\n",
    "        print('DONE! ', time()-t0, ' seconds.')\n",
    "        \n",
    "        print(\"Sending the new users to different model..\")\n",
    "        t0 = time()\n",
    "        self.new_user_pred = self.weighted_Recommendation()\n",
    "        output = pd.concat([output,self.new_user_pred],axis=0)\n",
    "        print('DONE! ', time()-t0, ' seconds.')\n",
    "        \n",
    "        \n",
    "        print(\"Sending the new movies to different model..\")\n",
    "        t0 = time()\n",
    "        if self.local == False:\n",
    "            self.new_movie_pred = self.requests_new_movies.copy()\n",
    "            self.new_movie_pred['prediction'] = 2.5\n",
    "            output = pd.concat([output,self.new_movie_pred],axis=0)\n",
    "        else: \n",
    "            #LOAD IN SIMILARITY MATRIX\n",
    "            Sims = pd.read_csv('data/matrix_overview.tar.xz', compression='infer')\n",
    "            Sims = Sims.rename(mapper={'matrix_overview.csv':'ID'}, axis=1,copy=False).dropna()\n",
    "            Sims.ID = Sims.ID.astype(int)\n",
    "            Sims = Sims.set_index('ID')\n",
    "            \n",
    "            preds = []\n",
    "            for i,row in self.requests_new_movies.copy().iterrows():\n",
    "                user = row.user\n",
    "                movie = row.movie\n",
    "                preds.append(self.pred_on_similarity(self.training_data, Sims, user, movie))\n",
    "            self.new_movie_pred['prediction'] = pd.Series(preds)\n",
    "            \n",
    "        \n",
    "        \n",
    "        print('DONE! ', time()-t0, ' seconds.')\n",
    "        return(output)\n",
    "    \n",
    "    \n",
    "    def weighted_Recommendation(self, is_sparse=False):\n",
    "        pd.options.display.float_format = '{:,.2f}'.format\n",
    "        training = self.training_data.copy()\n",
    "        users_movies = self.requests_new_users\n",
    "        \n",
    "        if is_sparse:\n",
    "\n",
    "            grouped_training = pd.DataFrame(np.full(len(training.columns),2.5))\n",
    "            grouped_training['movie'] = np.array(training.columns)\n",
    "            grouped_training['rating']= np.array(training.mean(axis = 0))\n",
    "            grouped_training['vote']= np.array(training.count(axis = 0))\n",
    "            grouped_training = grouped_training[['movie','rating','vote']]\n",
    "\n",
    "        else:\n",
    "            training['rating'] = training['rating'].astype(int)\n",
    "            grouped_training = training.groupby('movie') \\\n",
    "                        .agg({'user':'size', 'rating':'mean'}) \\\n",
    "                        .rename(columns={'user':'vote','rating':'rating'}) \\\n",
    "                        .reset_index()\n",
    "\n",
    "\n",
    "        # Calculate the minimum number of voters required to be in the chart\n",
    "        m = grouped_training['vote'].quantile(0.5)\n",
    "\n",
    "        # Filter out all qualified movies into a new DataFrame\n",
    "        scorings = grouped_training.copy().loc[grouped_training['vote'] >= m]\n",
    "\n",
    "        F = pd.merge(users_movies, scorings, on='movie', how='left')\n",
    "        F['rating'].fillna(2.5, inplace=True)\n",
    "        final = F[['user','movie','rating']]\n",
    "        final.rename(columns={'rating':'prediction'},inplace=True,copy=False)\n",
    "\n",
    "        return(final)\n",
    "                            \n",
    "    def pred_on_similarity(df, similarity_matrix, userID, movieID, num_similar=3):\n",
    "        '''\n",
    "        GENERATE 1 PREDICTED VALUE OF AN UNSEEN MOVIE FOR AN EXISTING USER BASED ON THAT USER'S RATINGS OF THE MOST \n",
    "        SIMILAR MOVIES TO THE MOVIE IN QUESTION.\n",
    "\n",
    "\n",
    "        df : 'pandas dataframe with columns user(int), movie(int)\n",
    "        similarity_matrix : square matrix pd.DataFrame of similarities \n",
    "        userID : int : id of user in df\n",
    "        movieID : int/str : id of movie in df\n",
    "        num_similary : int : compare movie in question to *num_similar* number of other movies the user has rated.\n",
    "        '''\n",
    "        n = num_similar\n",
    "        movieID = str(movieID)\n",
    "        userID = str(userID)\n",
    "        print(df.head())\n",
    "        user = df[df.user == userID][['movie','rating']] #get user movies and ratings by the user in question\n",
    "        m = similarity_matrix[movieID].reset_index() #get similarities for the movie in question\n",
    "        m.columns = ['movie','similarity'] #rename columns for merge\n",
    "\n",
    "        #fix formatting\n",
    "        m.movie = m.movie.astype(int)\n",
    "        user.movie = user.movie.astype(int)\n",
    "\n",
    "        merged = m.merge(user, on='movie',how='inner') #merge movie similarities with ratings\n",
    "\n",
    "        #fix formatting \n",
    "        merged.rating = merged.rating.astype(float)\n",
    "        merged.similarity = merged.similarity.astype(float)\n",
    "\n",
    "        merged['product'] = merged.rating*merged.similarity #calculate rating*similarity\n",
    "\n",
    "        #get top similarity value for normalizing\n",
    "        sorted_sims = merged.similarity.sort_values(ascending=False)\n",
    "        norm = sorted_sims[sorted_sims < 1].iloc[0]\n",
    "\n",
    "        #sort by top similarities, take first n ratings*similarities, take average, normalize\n",
    "        p = np.mean(merged.sort_values(by='similarity', ascending=False)['product'][:n])/norm\n",
    "        return p "
   ]
  },
  {
   "cell_type": "code",
   "execution_count": 3,
   "metadata": {},
   "outputs": [],
   "source": [
    "# train_data = pd.read_csv('data/training.csv')"
   ]
  },
  {
   "cell_type": "code",
   "execution_count": 3,
   "metadata": {},
   "outputs": [],
   "source": [
    "spark = ps.sql.SparkSession.builder\\\n",
    "                                .master(\"local[4]\")\\\n",
    "                                .appName(\"Reccomenders Paired\")\\\n",
    "                                .getOrCreate()\n",
    "sc = spark.sparkContext"
   ]
  },
  {
   "cell_type": "code",
   "execution_count": 4,
   "metadata": {},
   "outputs": [],
   "source": [
    "request_data = spark.read.csv('data/requests.csv', header=True)\n",
    "train_data = spark.read.csv('data/training.csv', header=True)"
   ]
  },
  {
   "cell_type": "code",
   "execution_count": 20,
   "metadata": {
    "scrolled": true
   },
   "outputs": [
    {
     "name": "stdout",
     "output_type": "stream",
     "text": [
      "Model Created. Trainging....\n",
      "DONE!  12.87046194076538  seconds.\n"
     ]
    },
    {
     "data": {
      "text/plain": [
       "True"
      ]
     },
     "execution_count": 20,
     "metadata": {},
     "output_type": "execute_result"
    }
   ],
   "source": [
    "rec = MovieRecommender(local=False)\n",
    "model = rec.fit(train_data)\n",
    "model.fitted"
   ]
  },
  {
   "cell_type": "code",
   "execution_count": 21,
   "metadata": {
    "scrolled": false
   },
   "outputs": [
    {
     "name": "stdout",
     "output_type": "stream",
     "text": [
      "Transforming...\n",
      "DONE!  8.873837947845459  seconds.\n",
      "Sending the new users to different model..\n",
      "DONE!  0.4452848434448242  seconds.\n",
      "Sending the new movies to different model..\n",
      "DONE!  0.014931917190551758  seconds.\n"
     ]
    },
    {
     "name": "stderr",
     "output_type": "stream",
     "text": [
      "/anaconda3/lib/python3.7/site-packages/pandas/core/frame.py:3781: SettingWithCopyWarning: \n",
      "A value is trying to be set on a copy of a slice from a DataFrame\n",
      "\n",
      "See the caveats in the documentation: http://pandas.pydata.org/pandas-docs/stable/indexing.html#indexing-view-versus-copy\n",
      "  return super(DataFrame, self).rename(**kwargs)\n"
     ]
    }
   ],
   "source": [
    "pred = model.transform(request_data)"
   ]
  },
  {
   "cell_type": "code",
   "execution_count": 22,
   "metadata": {},
   "outputs": [],
   "source": [
    "pred.to_csv('output_1.csv',index=False)"
   ]
  },
  {
   "cell_type": "code",
   "execution_count": 132,
   "metadata": {
    "scrolled": true
   },
   "outputs": [
    {
     "data": {
      "text/html": [
       "<div>\n",
       "<style scoped>\n",
       "    .dataframe tbody tr th:only-of-type {\n",
       "        vertical-align: middle;\n",
       "    }\n",
       "\n",
       "    .dataframe tbody tr th {\n",
       "        vertical-align: top;\n",
       "    }\n",
       "\n",
       "    .dataframe thead th {\n",
       "        text-align: right;\n",
       "    }\n",
       "</style>\n",
       "<table border=\"1\" class=\"dataframe\">\n",
       "  <thead>\n",
       "    <tr style=\"text-align: right;\">\n",
       "      <th></th>\n",
       "      <th>user</th>\n",
       "      <th>movie</th>\n",
       "      <th>prediction</th>\n",
       "    </tr>\n",
       "  </thead>\n",
       "  <tbody>\n",
       "    <tr>\n",
       "      <th>0</th>\n",
       "      <td>403</td>\n",
       "      <td>1036</td>\n",
       "      <td>4.15</td>\n",
       "    </tr>\n",
       "    <tr>\n",
       "      <th>1</th>\n",
       "      <td>424</td>\n",
       "      <td>2581</td>\n",
       "      <td>3.15</td>\n",
       "    </tr>\n",
       "    <tr>\n",
       "      <th>2</th>\n",
       "      <td>229</td>\n",
       "      <td>2839</td>\n",
       "      <td>2.50</td>\n",
       "    </tr>\n",
       "    <tr>\n",
       "      <th>3</th>\n",
       "      <td>229</td>\n",
       "      <td>3089</td>\n",
       "      <td>4.40</td>\n",
       "    </tr>\n",
       "    <tr>\n",
       "      <th>4</th>\n",
       "      <td>424</td>\n",
       "      <td>2324</td>\n",
       "      <td>4.33</td>\n",
       "    </tr>\n",
       "  </tbody>\n",
       "</table>\n",
       "</div>"
      ],
      "text/plain": [
       "  user movie  prediction\n",
       "0  403  1036        4.15\n",
       "1  424  2581        3.15\n",
       "2  229  2839        2.50\n",
       "3  229  3089        4.40\n",
       "4  424  2324        4.33"
      ]
     },
     "execution_count": 132,
     "metadata": {},
     "output_type": "execute_result"
    }
   ],
   "source": [
    "model.new_user_pred.head()"
   ]
  },
  {
   "cell_type": "code",
   "execution_count": 139,
   "metadata": {},
   "outputs": [
    {
     "data": {
      "text/plain": [
       "(200209, 3)"
      ]
     },
     "execution_count": 139,
     "metadata": {},
     "output_type": "execute_result"
    }
   ],
   "source": [
    "pred.shape"
   ]
  },
  {
   "cell_type": "code",
   "execution_count": 140,
   "metadata": {},
   "outputs": [
    {
     "name": "stdout",
     "output_type": "stream",
     "text": [
      "(200209, 2)\n",
      "(104439, 2)\n",
      "(95770, 2)\n",
      "(91, 2)\n",
      "(95679, 2)\n"
     ]
    }
   ],
   "source": [
    "print(model.test_df.shape)\n",
    "print(model.old_old.shape)\n",
    "print(model.newish.shape)\n",
    "print(model.requests_new_movies.shape)\n",
    "print(model.requests_new_users.shape)"
   ]
  },
  {
   "cell_type": "code",
   "execution_count": 36,
   "metadata": {},
   "outputs": [],
   "source": [
    "pred_df = pred.toPandas()"
   ]
  },
  {
   "cell_type": "code",
   "execution_count": 72,
   "metadata": {},
   "outputs": [
    {
     "data": {
      "text/html": [
       "<div>\n",
       "<style scoped>\n",
       "    .dataframe tbody tr th:only-of-type {\n",
       "        vertical-align: middle;\n",
       "    }\n",
       "\n",
       "    .dataframe tbody tr th {\n",
       "        vertical-align: top;\n",
       "    }\n",
       "\n",
       "    .dataframe thead th {\n",
       "        text-align: right;\n",
       "    }\n",
       "</style>\n",
       "<table border=\"1\" class=\"dataframe\">\n",
       "  <thead>\n",
       "    <tr style=\"text-align: right;\">\n",
       "      <th></th>\n",
       "      <th>userID</th>\n",
       "      <th>movieID</th>\n",
       "      <th>rating</th>\n",
       "      <th>prediction</th>\n",
       "    </tr>\n",
       "  </thead>\n",
       "  <tbody>\n",
       "    <tr>\n",
       "      <th>0</th>\n",
       "      <td>4169</td>\n",
       "      <td>148</td>\n",
       "      <td>4169</td>\n",
       "      <td>2.720469</td>\n",
       "    </tr>\n",
       "    <tr>\n",
       "      <th>1</th>\n",
       "      <td>5333</td>\n",
       "      <td>148</td>\n",
       "      <td>5333</td>\n",
       "      <td>2.666358</td>\n",
       "    </tr>\n",
       "    <tr>\n",
       "      <th>2</th>\n",
       "      <td>4387</td>\n",
       "      <td>148</td>\n",
       "      <td>4387</td>\n",
       "      <td>2.318244</td>\n",
       "    </tr>\n",
       "    <tr>\n",
       "      <th>3</th>\n",
       "      <td>840</td>\n",
       "      <td>148</td>\n",
       "      <td>840</td>\n",
       "      <td>3.150011</td>\n",
       "    </tr>\n",
       "    <tr>\n",
       "      <th>4</th>\n",
       "      <td>752</td>\n",
       "      <td>148</td>\n",
       "      <td>752</td>\n",
       "      <td>2.133929</td>\n",
       "    </tr>\n",
       "  </tbody>\n",
       "</table>\n",
       "</div>"
      ],
      "text/plain": [
       "   userID  movieID  rating  prediction\n",
       "0    4169      148    4169    2.720469\n",
       "1    5333      148    5333    2.666358\n",
       "2    4387      148    4387    2.318244\n",
       "3     840      148     840    3.150011\n",
       "4     752      148     752    2.133929"
      ]
     },
     "execution_count": 72,
     "metadata": {},
     "output_type": "execute_result"
    }
   ],
   "source": [
    "pred_df.head()"
   ]
  },
  {
   "cell_type": "code",
   "execution_count": 7,
   "metadata": {},
   "outputs": [],
   "source": [
    "# train_df = train_data.toPandas()\n",
    "# test_df = request_data.toPandas()\n",
    "\n",
    "train_df = pd.read_csv('data/requests.csv')\n",
    "test_df = pd.read_csv('data/training.csv')"
   ]
  },
  {
   "cell_type": "code",
   "execution_count": 43,
   "metadata": {},
   "outputs": [
    {
     "data": {
      "text/plain": [
       "(0, 4)"
      ]
     },
     "execution_count": 43,
     "metadata": {},
     "output_type": "execute_result"
    }
   ],
   "source": [
    "pred_df[pred_df.prediction.isna()].shape"
   ]
  },
  {
   "cell_type": "code",
   "execution_count": 44,
   "metadata": {},
   "outputs": [
    {
     "data": {
      "text/plain": [
       "104439"
      ]
     },
     "execution_count": 44,
     "metadata": {},
     "output_type": "execute_result"
    }
   ],
   "source": [
    "pred_df.shape[0]"
   ]
  },
  {
   "cell_type": "code",
   "execution_count": 45,
   "metadata": {},
   "outputs": [],
   "source": [
    "users_train = train_df.user.unique()\n",
    "movies_train = train_df.movie.unique()"
   ]
  },
  {
   "cell_type": "code",
   "execution_count": 46,
   "metadata": {},
   "outputs": [
    {
     "data": {
      "text/plain": [
       "userID        0\n",
       "movieID       0\n",
       "rating        0\n",
       "prediction    0\n",
       "dtype: int64"
      ]
     },
     "execution_count": 46,
     "metadata": {},
     "output_type": "execute_result"
    }
   ],
   "source": [
    "check = pred_df[pred_df.userID.isin(users_train)]\n",
    "check = check[check.movieID.isin(movies_train)]\n",
    "check.isnull().sum()"
   ]
  },
  {
   "cell_type": "code",
   "execution_count": 50,
   "metadata": {},
   "outputs": [
    {
     "data": {
      "text/plain": [
       "userID        0\n",
       "movieID       0\n",
       "rating        0\n",
       "prediction    0\n",
       "dtype: int64"
      ]
     },
     "execution_count": 50,
     "metadata": {},
     "output_type": "execute_result"
    }
   ],
   "source": [
    "# IF CASES WHERE BOTH \n",
    "check = pred_df[(pred_df.userID.isin(users_train)) & (~pred_df.movieID.isin(movies_train))]\n",
    "check.isnull().sum()"
   ]
  },
  {
   "cell_type": "code",
   "execution_count": 46,
   "metadata": {},
   "outputs": [
    {
     "data": {
      "text/plain": [
       "userID        0\n",
       "movieID       0\n",
       "rating        0\n",
       "prediction    0\n",
       "dtype: int64"
      ]
     },
     "execution_count": 46,
     "metadata": {},
     "output_type": "execute_result"
    }
   ],
   "source": []
  },
  {
   "cell_type": "code",
   "execution_count": null,
   "metadata": {},
   "outputs": [],
   "source": []
  },
  {
   "cell_type": "code",
   "execution_count": null,
   "metadata": {},
   "outputs": [],
   "source": []
  },
  {
   "cell_type": "code",
   "execution_count": null,
   "metadata": {},
   "outputs": [],
   "source": []
  },
  {
   "cell_type": "code",
   "execution_count": null,
   "metadata": {},
   "outputs": [],
   "source": []
  },
  {
   "cell_type": "code",
   "execution_count": null,
   "metadata": {},
   "outputs": [],
   "source": []
  },
  {
   "cell_type": "markdown",
   "metadata": {},
   "source": [
    "# Max's stuff"
   ]
  },
  {
   "cell_type": "code",
   "execution_count": null,
   "metadata": {},
   "outputs": [],
   "source": [
    "pred.show()"
   ]
  },
  {
   "cell_type": "code",
   "execution_count": null,
   "metadata": {},
   "outputs": [],
   "source": [
    "pred_df = pred.toPandas()"
   ]
  },
  {
   "cell_type": "code",
   "execution_count": null,
   "metadata": {},
   "outputs": [],
   "source": [
    "train_df = train_data.toPandas()\n",
    "test_df = request_data.toPandas()"
   ]
  },
  {
   "cell_type": "code",
   "execution_count": null,
   "metadata": {},
   "outputs": [],
   "source": [
    "train_df.head()"
   ]
  },
  {
   "cell_type": "code",
   "execution_count": null,
   "metadata": {},
   "outputs": [],
   "source": [
    "test_df.shape[0]"
   ]
  },
  {
   "cell_type": "code",
   "execution_count": null,
   "metadata": {},
   "outputs": [],
   "source": [
    "nas = pred_df[pred_df.prediction.isna()]"
   ]
  },
  {
   "cell_type": "code",
   "execution_count": null,
   "metadata": {},
   "outputs": [],
   "source": [
    "unique_users = train_df['user'].unique()\n",
    "unique_users_na_test = nas['user'].unique()\n",
    "\n",
    "unique_movie = train_df['movie'].unique()\n",
    "unique_movie_na_test = nas['movie'].unique()"
   ]
  },
  {
   "cell_type": "code",
   "execution_count": null,
   "metadata": {},
   "outputs": [],
   "source": [
    "len(set(unique_movie).intersection(set(unique_movie_na_test)))"
   ]
  },
  {
   "cell_type": "code",
   "execution_count": null,
   "metadata": {},
   "outputs": [],
   "source": [
    "len(set(unique_users).intersection(set(unique_users_na_test)))"
   ]
  },
  {
   "cell_type": "code",
   "execution_count": 129,
   "metadata": {},
   "outputs": [
    {
     "data": {
      "text/plain": [
       "(708,)"
      ]
     },
     "execution_count": 129,
     "metadata": {},
     "output_type": "execute_result"
    }
   ],
   "source": [
    "unique_users_na_test.shape"
   ]
  },
  {
   "cell_type": "code",
   "execution_count": 136,
   "metadata": {},
   "outputs": [
    {
     "data": {
      "text/plain": [
       "numpy.ndarray"
      ]
     },
     "execution_count": 136,
     "metadata": {},
     "output_type": "execute_result"
    }
   ],
   "source": [
    "type(unique_users)"
   ]
  },
  {
   "cell_type": "code",
   "execution_count": 138,
   "metadata": {},
   "outputs": [
    {
     "ename": "ValueError",
     "evalue": "Lengths must match to compare",
     "output_type": "error",
     "traceback": [
      "\u001b[0;31m---------------------------------------------------------------------------\u001b[0m",
      "\u001b[0;31mValueError\u001b[0m                                Traceback (most recent call last)",
      "\u001b[0;32m<ipython-input-138-026c5e1200d4>\u001b[0m in \u001b[0;36m<module>\u001b[0;34m\u001b[0m\n\u001b[0;32m----> 1\u001b[0;31m \u001b[0mnas\u001b[0m\u001b[0;34m[\u001b[0m\u001b[0mnas\u001b[0m\u001b[0;34m.\u001b[0m\u001b[0muser\u001b[0m \u001b[0;32min\u001b[0m \u001b[0munique_users\u001b[0m\u001b[0;34m]\u001b[0m\u001b[0;34m\u001b[0m\u001b[0;34m\u001b[0m\u001b[0m\n\u001b[0m",
      "\u001b[0;32m/anaconda3/lib/python3.7/site-packages/pandas/core/ops.py\u001b[0m in \u001b[0;36mwrapper\u001b[0;34m(self, other, axis)\u001b[0m\n\u001b[1;32m   1251\u001b[0m             \u001b[0;31m# as it will broadcast\u001b[0m\u001b[0;34m\u001b[0m\u001b[0;34m\u001b[0m\u001b[0;34m\u001b[0m\u001b[0m\n\u001b[1;32m   1252\u001b[0m             \u001b[0;32mif\u001b[0m \u001b[0mother\u001b[0m\u001b[0;34m.\u001b[0m\u001b[0mndim\u001b[0m \u001b[0;34m!=\u001b[0m \u001b[0;36m0\u001b[0m \u001b[0;32mand\u001b[0m \u001b[0mlen\u001b[0m\u001b[0;34m(\u001b[0m\u001b[0mself\u001b[0m\u001b[0;34m)\u001b[0m \u001b[0;34m!=\u001b[0m \u001b[0mlen\u001b[0m\u001b[0;34m(\u001b[0m\u001b[0mother\u001b[0m\u001b[0;34m)\u001b[0m\u001b[0;34m:\u001b[0m\u001b[0;34m\u001b[0m\u001b[0;34m\u001b[0m\u001b[0m\n\u001b[0;32m-> 1253\u001b[0;31m                 \u001b[0;32mraise\u001b[0m \u001b[0mValueError\u001b[0m\u001b[0;34m(\u001b[0m\u001b[0;34m'Lengths must match to compare'\u001b[0m\u001b[0;34m)\u001b[0m\u001b[0;34m\u001b[0m\u001b[0;34m\u001b[0m\u001b[0m\n\u001b[0m\u001b[1;32m   1254\u001b[0m \u001b[0;34m\u001b[0m\u001b[0m\n\u001b[1;32m   1255\u001b[0m             \u001b[0mres_values\u001b[0m \u001b[0;34m=\u001b[0m \u001b[0mna_op\u001b[0m\u001b[0;34m(\u001b[0m\u001b[0mself\u001b[0m\u001b[0;34m.\u001b[0m\u001b[0mvalues\u001b[0m\u001b[0;34m,\u001b[0m \u001b[0mnp\u001b[0m\u001b[0;34m.\u001b[0m\u001b[0masarray\u001b[0m\u001b[0;34m(\u001b[0m\u001b[0mother\u001b[0m\u001b[0;34m)\u001b[0m\u001b[0;34m)\u001b[0m\u001b[0;34m\u001b[0m\u001b[0;34m\u001b[0m\u001b[0m\n",
      "\u001b[0;31mValueError\u001b[0m: Lengths must match to compare"
     ]
    }
   ],
   "source": [
    "nans"
   ]
  },
  {
   "cell_type": "code",
   "execution_count": 134,
   "metadata": {},
   "outputs": [
    {
     "ename": "ValueError",
     "evalue": "Lengths must match to compare",
     "output_type": "error",
     "traceback": [
      "\u001b[0;31m---------------------------------------------------------------------------\u001b[0m",
      "\u001b[0;31mValueError\u001b[0m                                Traceback (most recent call last)",
      "\u001b[0;32m<ipython-input-134-f3df0fcc1134>\u001b[0m in \u001b[0;36m<module>\u001b[0;34m\u001b[0m\n\u001b[0;32m----> 1\u001b[0;31m \u001b[0mnas\u001b[0m\u001b[0;34m[\u001b[0m\u001b[0;34m(\u001b[0m\u001b[0mnas\u001b[0m\u001b[0;34m[\u001b[0m\u001b[0;34m'user'\u001b[0m\u001b[0;34m]\u001b[0m \u001b[0;32min\u001b[0m \u001b[0munique_users\u001b[0m\u001b[0;34m)\u001b[0m \u001b[0;34m&\u001b[0m \u001b[0;34m(\u001b[0m\u001b[0mnas\u001b[0m\u001b[0;34m[\u001b[0m\u001b[0;34m'movie'\u001b[0m\u001b[0;34m]\u001b[0m \u001b[0;32min\u001b[0m \u001b[0munique_movie\u001b[0m\u001b[0;34m)\u001b[0m\u001b[0;34m]\u001b[0m\u001b[0;34m\u001b[0m\u001b[0;34m\u001b[0m\u001b[0m\n\u001b[0m",
      "\u001b[0;32m/anaconda3/lib/python3.7/site-packages/pandas/core/ops.py\u001b[0m in \u001b[0;36mwrapper\u001b[0;34m(self, other, axis)\u001b[0m\n\u001b[1;32m   1251\u001b[0m             \u001b[0;31m# as it will broadcast\u001b[0m\u001b[0;34m\u001b[0m\u001b[0;34m\u001b[0m\u001b[0;34m\u001b[0m\u001b[0m\n\u001b[1;32m   1252\u001b[0m             \u001b[0;32mif\u001b[0m \u001b[0mother\u001b[0m\u001b[0;34m.\u001b[0m\u001b[0mndim\u001b[0m \u001b[0;34m!=\u001b[0m \u001b[0;36m0\u001b[0m \u001b[0;32mand\u001b[0m \u001b[0mlen\u001b[0m\u001b[0;34m(\u001b[0m\u001b[0mself\u001b[0m\u001b[0;34m)\u001b[0m \u001b[0;34m!=\u001b[0m \u001b[0mlen\u001b[0m\u001b[0;34m(\u001b[0m\u001b[0mother\u001b[0m\u001b[0;34m)\u001b[0m\u001b[0;34m:\u001b[0m\u001b[0;34m\u001b[0m\u001b[0;34m\u001b[0m\u001b[0m\n\u001b[0;32m-> 1253\u001b[0;31m                 \u001b[0;32mraise\u001b[0m \u001b[0mValueError\u001b[0m\u001b[0;34m(\u001b[0m\u001b[0;34m'Lengths must match to compare'\u001b[0m\u001b[0;34m)\u001b[0m\u001b[0;34m\u001b[0m\u001b[0;34m\u001b[0m\u001b[0m\n\u001b[0m\u001b[1;32m   1254\u001b[0m \u001b[0;34m\u001b[0m\u001b[0m\n\u001b[1;32m   1255\u001b[0m             \u001b[0mres_values\u001b[0m \u001b[0;34m=\u001b[0m \u001b[0mna_op\u001b[0m\u001b[0;34m(\u001b[0m\u001b[0mself\u001b[0m\u001b[0;34m.\u001b[0m\u001b[0mvalues\u001b[0m\u001b[0;34m,\u001b[0m \u001b[0mnp\u001b[0m\u001b[0;34m.\u001b[0m\u001b[0masarray\u001b[0m\u001b[0;34m(\u001b[0m\u001b[0mother\u001b[0m\u001b[0;34m)\u001b[0m\u001b[0;34m)\u001b[0m\u001b[0;34m\u001b[0m\u001b[0;34m\u001b[0m\u001b[0m\n",
      "\u001b[0;31mValueError\u001b[0m: Lengths must match to compare"
     ]
    }
   ],
   "source": [
    "nas[(nas['user'] in unique_users) & (nas['movie'] in unique_movie)]"
   ]
  },
  {
   "cell_type": "code",
   "execution_count": 98,
   "metadata": {},
   "outputs": [],
   "source": [
    "nas.rename({'userID':'user', 'movieID':'movie'},copy=False, inplace = True,axis=1)"
   ]
  },
  {
   "cell_type": "code",
   "execution_count": 121,
   "metadata": {},
   "outputs": [
    {
     "name": "stderr",
     "output_type": "stream",
     "text": [
      "/anaconda3/lib/python3.7/site-packages/ipykernel_launcher.py:1: SettingWithCopyWarning: \n",
      "A value is trying to be set on a copy of a slice from a DataFrame.\n",
      "Try using .loc[row_indexer,col_indexer] = value instead\n",
      "\n",
      "See the caveats in the documentation: http://pandas.pydata.org/pandas-docs/stable/indexing.html#indexing-view-versus-copy\n",
      "  \"\"\"Entry point for launching an IPython kernel.\n",
      "/anaconda3/lib/python3.7/site-packages/ipykernel_launcher.py:2: SettingWithCopyWarning: \n",
      "A value is trying to be set on a copy of a slice from a DataFrame.\n",
      "Try using .loc[row_indexer,col_indexer] = value instead\n",
      "\n",
      "See the caveats in the documentation: http://pandas.pydata.org/pandas-docs/stable/indexing.html#indexing-view-versus-copy\n",
      "  \n"
     ]
    },
    {
     "data": {
      "text/html": [
       "<div>\n",
       "<style scoped>\n",
       "    .dataframe tbody tr th:only-of-type {\n",
       "        vertical-align: middle;\n",
       "    }\n",
       "\n",
       "    .dataframe tbody tr th {\n",
       "        vertical-align: top;\n",
       "    }\n",
       "\n",
       "    .dataframe thead th {\n",
       "        text-align: right;\n",
       "    }\n",
       "</style>\n",
       "<table border=\"1\" class=\"dataframe\">\n",
       "  <thead>\n",
       "    <tr style=\"text-align: right;\">\n",
       "      <th></th>\n",
       "      <th>user</th>\n",
       "      <th>movie</th>\n",
       "      <th>rating</th>\n",
       "      <th>prediction</th>\n",
       "    </tr>\n",
       "  </thead>\n",
       "  <tbody>\n",
       "    <tr>\n",
       "      <th>0</th>\n",
       "      <td>53</td>\n",
       "      <td>148</td>\n",
       "      <td>53</td>\n",
       "      <td>NaN</td>\n",
       "    </tr>\n",
       "    <tr>\n",
       "      <th>5</th>\n",
       "      <td>216</td>\n",
       "      <td>148</td>\n",
       "      <td>216</td>\n",
       "      <td>NaN</td>\n",
       "    </tr>\n",
       "    <tr>\n",
       "      <th>6</th>\n",
       "      <td>482</td>\n",
       "      <td>148</td>\n",
       "      <td>482</td>\n",
       "      <td>NaN</td>\n",
       "    </tr>\n",
       "    <tr>\n",
       "      <th>8</th>\n",
       "      <td>424</td>\n",
       "      <td>148</td>\n",
       "      <td>424</td>\n",
       "      <td>NaN</td>\n",
       "    </tr>\n",
       "    <tr>\n",
       "      <th>11</th>\n",
       "      <td>26</td>\n",
       "      <td>463</td>\n",
       "      <td>26</td>\n",
       "      <td>NaN</td>\n",
       "    </tr>\n",
       "  </tbody>\n",
       "</table>\n",
       "</div>"
      ],
      "text/plain": [
       "    user  movie  rating  prediction\n",
       "0     53    148      53         NaN\n",
       "5    216    148     216         NaN\n",
       "6    482    148     482         NaN\n",
       "8    424    148     424         NaN\n",
       "11    26    463      26         NaN"
      ]
     },
     "execution_count": 121,
     "metadata": {},
     "output_type": "execute_result"
    }
   ],
   "source": [
    "nas['user'] = nas['user'].astype(int)\n",
    "nas['movie'] = nas['movie'].astype(int)\n",
    "train_df['user'] = train_df['user'].astype(int)\n",
    "train_df['movie'] = train_df['movie'].astype(int)\n",
    "nas.head()"
   ]
  },
  {
   "cell_type": "code",
   "execution_count": 122,
   "metadata": {},
   "outputs": [
    {
     "data": {
      "text/plain": [
       "(43389, 7)"
      ]
     },
     "execution_count": 122,
     "metadata": {},
     "output_type": "execute_result"
    }
   ],
   "source": [
    "pd.merge(train_df, nas,on='user',how='inner').shape"
   ]
  },
  {
   "cell_type": "code",
   "execution_count": 11,
   "metadata": {},
   "outputs": [
    {
     "name": "stdout",
     "output_type": "stream",
     "text": [
      "+------+-------+------+\n",
      "|userID|movieID|rating|\n",
      "+------+-------+------+\n",
      "|   636|    968|     5|\n",
      "|   636|   1240|     5|\n",
      "|   636|   1320|     4|\n",
      "|   636|   1544|     5|\n",
      "|   636|   1584|     3|\n",
      "|   636|   2288|     2|\n",
      "|   636|   2456|     2|\n",
      "|   636|   3016|     3|\n",
      "|   637|    440|     3|\n",
      "|   637|    480|     3|\n",
      "|   637|    520|     4|\n",
      "|   637|    592|     2|\n",
      "|   637|    920|     5|\n",
      "|   637|    952|     3|\n",
      "|   637|    968|     5|\n",
      "|   637|   1080|     3|\n",
      "|   637|   1096|     5|\n",
      "|   637|   1200|     3|\n",
      "|   637|   1208|     3|\n",
      "|   637|   1224|     5|\n",
      "+------+-------+------+\n",
      "only showing top 20 rows\n",
      "\n"
     ]
    },
    {
     "data": {
      "text/plain": [
       "0.9991700955071164"
      ]
     },
     "execution_count": 11,
     "metadata": {},
     "output_type": "execute_result"
    }
   ],
   "source": [
    "# spark = ps.sql.SparkSession.builder\\\n",
    "#                                 .master(\"local[4]\")\\\n",
    "#                                 .appName(\"Reccomenders Paired\")\\\n",
    "#                                 .getOrCreate()\n",
    "# sc = spark.sparkContext\n",
    "\n",
    "# users = sc.textFile('data/users.dat').map(lambda x: (int(x.split('::')[0]), x))\n",
    "# movies = sc.textFile('data/movies.dat').map(lambda x: (int(x.split('::')[0]), x))\n",
    "\n",
    "\n",
    "# ratings = spark.read.csv('data/training.csv', header=True)\n",
    "\n",
    "\n",
    "# ratings = ratings.rdd.map(tuple)\n",
    "# ratings = ratings.map(lambda x: '::'.join(x))\n",
    "# ratings = ratings.map(lambda x: (int(x.split('::')[0]), x))\n",
    "\n",
    "# users.take(5), ratings.take(5)\n",
    "\n",
    "# joined = ratings.join(users)\n",
    "# # index is the user id of that rating \n",
    "# joined.take(5)\n",
    "\n",
    "# temp = joined.map(lambda x: '::'.join(x[1])).map(lambda x: (int(x.split('::')[1]), x))\n",
    "\n",
    "# # index is now the movie id of that rating\n",
    "# temp.take(5)\n",
    "\n",
    "# joined_full = temp.join(movies).map(lambda x: '::'.join(x[1]))\n",
    "# joined_full.take(5)\n",
    "# joined_full\n",
    "\n",
    "\n",
    "# def split_to_cols(x):\n",
    "#     values = x.split('::')\n",
    "#     return (int(values[0]), int(values[1]), int(values[2]))\n",
    "\n",
    "# def get_ratings(x):\n",
    "#     values = x.split('::')\n",
    "#     return (int(values[2]))\n",
    "\n",
    "# data_rdd = joined_full.map(split_to_cols)\n",
    "# data_rdd.take(5)\n",
    "\n",
    "# j_ratings = joined_full.map(get_ratings)\n",
    "# j_ratings.take(5)\n",
    "\n",
    "# schema = StructType([\n",
    "#     StructField(\"userID\", IntegerType(), True),\n",
    "#     StructField(\"movieID\", IntegerType(), True),\n",
    "#     StructField(\"rating\", IntegerType(), True)])\n",
    "# data = spark.createDataFrame(data_rdd, schema)\n",
    "\n",
    "# train, test = data.randomSplit([0.8, 0.2], seed=420)\n",
    "# train.show()\n",
    "\n",
    "# als = ALS(\n",
    "#     itemCol='movieID',\n",
    "#     userCol='userID',\n",
    "#     ratingCol='rating',\n",
    "#     nonnegative=True,    \n",
    "#     regParam=0.4,\n",
    "# maxIter=10,\n",
    "#     rank=14)\n",
    "\n",
    "# recommender = als.fit(train)\n",
    "\n",
    "\n",
    "predictions = recommender.transform(test)\n",
    "predictions.show()\n",
    "\n",
    "\n",
    "\n",
    "predictions_df = predictions.toPandas()\n",
    "train_df = train.toPandas()\n",
    "predictions_df = predictions.toPandas().fillna(train_df['rating'].mean())\n",
    "predictions_df['r_squared'] = (predictions_df['rating'] - predictions_df['prediction'])**2\n",
    "\n",
    "\n",
    "RMSE = np.sqrt(sum(predictions_df['r_squared']) / len(predictions_df))\n",
    "RMSE\n"
   ]
  }
 ],
 "metadata": {
  "kernelspec": {
   "display_name": "Python 3",
   "language": "python",
   "name": "python3"
  },
  "language_info": {
   "codemirror_mode": {
    "name": "ipython",
    "version": 3
   },
   "file_extension": ".py",
   "mimetype": "text/x-python",
   "name": "python",
   "nbconvert_exporter": "python",
   "pygments_lexer": "ipython3",
   "version": "3.7.1"
  }
 },
 "nbformat": 4,
 "nbformat_minor": 2
}
